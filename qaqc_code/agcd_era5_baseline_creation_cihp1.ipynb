{
 "cells": [
  {
   "cell_type": "code",
   "execution_count": null,
   "id": "3644f463-e702-4fc1-85e4-dd06bf09f17c",
   "metadata": {},
   "outputs": [],
   "source": [
    "import requests\n",
    "import io\n",
    "import os\n",
    "import time\n",
    "from dateutil import parser\n",
    "import xarray as xr\n",
    "import regionmask\n",
    "import geopandas as gp\n",
    "import matplotlib.pyplot as plt\n",
    "import cartopy\n",
    "import cartopy.crs as ccrs\n",
    "import cmocean\n",
    "from datetime import datetime\n",
    "from glob import glob\n",
    "import numpy as np\n",
    "# # SDK\n",
    "# from cayp import deliver, logging, ExitException\n",
    "# from cayp.catalog import catalog"
   ]
  },
  {
   "cell_type": "code",
   "execution_count": null,
   "id": "4c54ea14-554d-4132-9cfd-de2b542d9ba1",
   "metadata": {},
   "outputs": [],
   "source": [
    "region_bounds = {\n",
    "    'AUS'  :[-10.3,155,-45,110],\n",
    "    'TAS1':[-39.5,149.85,-45.15,142.15],\n",
    "    'VIC1':[-33.95,144.25,-39,140.9],\n",
    "    'VIC2':[-35.65,150,-39.25,144.25],\n",
    "    'NSW1':[-28.9,147.65,-36.25,140.9],\n",
    "    'NSW2':[-28.1,153.75,-32.45,147.65],\n",
    "    'NSW3':[-32.45,153.3,-37.7,147.65],\n",
    "    'QLD1':[-23.85,153.75,-29.3,137.9],\n",
    "    'QLD2':[-8.9,144.4,-23.85,137.9],\n",
    "    'QLD3':[-13.95,151.5,-23.85,144.4],\n",
    "    'NT1' :[-10.6,138.15,-19.7,128.9],\n",
    "    'NT2' :[-19.7,138.15,-26.05,128.9],\n",
    "    'WA1' :[-13.6,129.1,-23.85,113.1],\n",
    "    'WA2' :[-23.85,129.1,-35.4,117.85],\n",
    "    'WA3' :[-23.85,117.85,-35.4,112.85],\n",
    "    'SA1' :[-25.95,141.05,-38.45,135.5],\n",
    "    'SA2' :[-25.95,135.5,-35.15,132.65],\n",
    "    'SAMPLE':[-31.15,134.65,-33.15,132.65]\n",
    "}"
   ]
  },
  {
   "cell_type": "markdown",
   "id": "04c9b924-9d30-4259-b2b3-e545ae17ef77",
   "metadata": {},
   "source": [
    "## joining baseline data"
   ]
  },
  {
   "cell_type": "code",
   "execution_count": null,
   "id": "5462b932-fd7e-49d6-af7c-2621c3820915",
   "metadata": {},
   "outputs": [],
   "source": [
    "import dask.distributed as dsk\n",
    "\n",
    "# Start client\n",
    "clnt = dsk.Client()\n",
    "clnt"
   ]
  },
  {
   "cell_type": "code",
   "execution_count": null,
   "id": "5dfda231-e5d8-43d4-93c2-bfb3688b6c85",
   "metadata": {},
   "outputs": [],
   "source": [
    "variable='rsds' # must be either rsds, rhs, tasmax, tasmin or pr"
   ]
  },
  {
   "cell_type": "code",
   "execution_count": null,
   "id": "6341953e-eed2-4ff3-9647-abaa15fc17ad",
   "metadata": {},
   "outputs": [],
   "source": [
    "file_keys={'pr':['AGCD','precip'],'tasmax':['AGCD','tmax'],'tasmin':['AGCD','tmin'],'rhs':['ERA5','hurs'],'rsds':['ERA5','ssrd']}\n",
    "data=xr.open_mfdataset(f\"/g/data/wp00/data/observations/{file_keys[variable][0]}/{file_keys[variable][1]}/daily/*.nc\")\n",
    "if variable=='pr':\n",
    "    baseline=data.precip.loc[\"1981-01-01\":\"2010-12-31\"]\n",
    "elif variable=='tasmax':\n",
    "    baseline=data.tmax.loc[\"1981-01-01\":\"2010-12-31\"]\n",
    "elif variable=='tasmin':\n",
    "    baseline=data.tmin.loc[\"1981-01-01\":\"2010-12-31\"]\n",
    "elif variable=='rhs':\n",
    "    baseline=data.hurs.loc[\"1981-01-01\":\"2010-12-31\"]\n",
    "elif variable=='rsds':\n",
    "    baseline=data.ssrd.loc[\"1981-01-01\":\"2010-12-31\"]\n",
    "baseline=baseline[np.logical_or(baseline['time.month']!=2,baseline['time.day']!=29)].astype('float32')\n",
    "output=xr.Dataset({variable:baseline})\n",
    "print(time.strftime(\"%H:%M:%S\", time.localtime())+': saving baseline data')\n",
    "output.to_netcdf(f'/scratch/wp00/mjk563/{variable}_{file_keys[variable][0]}_historical_1981-2010-daily-mean.nc',format=\"NETCDF4\") # please replace mjk563 with your username"
   ]
  },
  {
   "cell_type": "markdown",
   "id": "6e373267-dc02-4080-917a-5b626e8b9d6d",
   "metadata": {},
   "source": [
    "## subsetting/averaging baseline data"
   ]
  },
  {
   "cell_type": "code",
   "execution_count": null,
   "id": "6a69fe46-174f-47e0-9731-c3e81c9c1107",
   "metadata": {},
   "outputs": [],
   "source": [
    "import dask.distributed as dsk\n",
    "\n",
    "# Start client\n",
    "clnt = dsk.Client()\n",
    "clnt"
   ]
  },
  {
   "cell_type": "code",
   "execution_count": null,
   "id": "f4a7cf7d-32aa-442c-acca-55c9de0c254f",
   "metadata": {},
   "outputs": [],
   "source": [
    "in_variable='pr'\n",
    "filein=glob(f'/g/data/wp00/data/QQ-CMIP5/AgDataShop/AUS_daily/{in_variable}_*_historical_1981-2010-daily-mean.nc')[0]\n",
    "baseline_data=xr.open_dataarray(filein,chunks={'time':'auto'})"
   ]
  },
  {
   "cell_type": "code",
   "execution_count": null,
   "id": "c479deb3-68ac-4716-8367-5d62091fa735",
   "metadata": {},
   "outputs": [],
   "source": [
    "resampled_data=baseline_data.resample(time=\"M\").mean()\n",
    "output=xr.Dataset({in_variable:resampled_data})\n",
    "print(time.strftime(\"%H:%M:%S\", time.localtime())+': saving baseline data')\n",
    "fileout=filein.replace('AUS_daily/','').replace('daily','monthly')\n",
    "output.to_netcdf(fileout,format=\"NETCDF4\")"
   ]
  },
  {
   "cell_type": "code",
   "execution_count": null,
   "id": "79f537e2-7e16-4343-8c68-31e530b43e75",
   "metadata": {},
   "outputs": [],
   "source": [
    "resampled_data=baseline_data.resample(time=\"Q-NOV\").mean()\n",
    "output=xr.Dataset({in_variable:resampled_data})\n",
    "print(time.strftime(\"%H:%M:%S\", time.localtime())+': saving baseline data')\n",
    "fileout=filein.replace('AUS_daily/','').replace('daily','seasonal')\n",
    "output\n",
    "output.to_netcdf(fileout,format=\"NETCDF4\")"
   ]
  },
  {
   "cell_type": "code",
   "execution_count": null,
   "id": "fd755dea-7e37-4f04-80f1-5c6ec41a0c52",
   "metadata": {},
   "outputs": [],
   "source": [
    "resampled_data=baseline_data.resample(time=\"Y\").mean()\n",
    "output=xr.Dataset({in_variable:resampled_data})\n",
    "print(time.strftime(\"%H:%M:%S\", time.localtime())+': saving baseline data')\n",
    "fileout=filein.replace('AUS_daily/','').replace('daily','annual')\n",
    "output\n",
    "output.to_netcdf(fileout,format=\"NETCDF4\")"
   ]
  },
  {
   "cell_type": "code",
   "execution_count": null,
   "id": "f2c88ea1-68fe-41cd-988f-38060003b69f",
   "metadata": {
    "scrolled": true
   },
   "outputs": [],
   "source": [
    "for in_variable in ['pr','tasmin','tasmax','rhs','rsds']:\n",
    "    filein=glob(f'/g/data/wp00/data/QQ-CMIP5/AgDataShop/AUS_daily/{in_variable}_*_historical_1981-2010-daily-mean.nc')[0]\n",
    "    baseline_data=xr.open_dataarray(filein,chunks={'time':'auto'})\n",
    "    for region in ['TAS1','VIC1','VIC2','NSW1','NSW2','NSW3','QLD1','QLD2','QLD3','NT1','NT2','WA1','WA2','WA3','SA1','SA2','SAMPLE']:\n",
    "        print(f'{in_variable}, {region}')\n",
    "        degrees_north =region_bounds[region][0]+.001\n",
    "        degrees_east  =region_bounds[region][1]+.001\n",
    "        degrees_south =region_bounds[region][2]-.001\n",
    "        degrees_west  =region_bounds[region][3]-.001\n",
    "        subset_data=baseline_data.loc[:,degrees_south:degrees_north,degrees_west:degrees_east]\n",
    "        fileout=filein.replace('AUS_daily/',f'{region}_daily/').replace('.nc',f'_g-{region}.nc')\n",
    "        subset_data.to_netcdf(fileout,format=\"NETCDF4\",encoding={subset_data.name:{\"zlib\": True, \"complevel\": 5}})"
   ]
  },
  {
   "cell_type": "code",
   "execution_count": null,
   "id": "5658aa70-9f75-4466-805f-f7cc36ea92b0",
   "metadata": {},
   "outputs": [],
   "source": []
  }
 ],
 "metadata": {
  "kernelspec": {
   "display_name": "Python [conda env:analysis3]",
   "language": "python",
   "name": "conda-env-analysis3-py"
  },
  "language_info": {
   "codemirror_mode": {
    "name": "ipython",
    "version": 3
   },
   "file_extension": ".py",
   "mimetype": "text/x-python",
   "name": "python",
   "nbconvert_exporter": "python",
   "pygments_lexer": "ipython3",
   "version": "3.10.13"
  }
 },
 "nbformat": 4,
 "nbformat_minor": 5
}
